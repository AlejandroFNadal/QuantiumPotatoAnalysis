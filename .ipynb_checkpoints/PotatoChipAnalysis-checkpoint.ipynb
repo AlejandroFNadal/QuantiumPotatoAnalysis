{
 "cells": [
  {
   "cell_type": "markdown",
   "metadata": {},
   "source": [
    "# Potato Chip Analysis"
   ]
  },
  {
   "cell_type": "markdown",
   "metadata": {},
   "source": [
    "### Made by Alejandro Nadal. The datasets are from Quantium "
   ]
  },
  {
   "cell_type": "markdown",
   "metadata": {},
   "source": [
    "Here we will be working with two datasets, one of customers, the other of transactions of potato chips. We will try to derive some conclusions and give some recomendations for our clients. First, lets describe the two datasets and its parts\n",
    "\n",
    "QVI_purchase_behaviour.csv contains the **card number**, **lifestage**, and **premium_customer**. Let's see the possible values"
   ]
  },
  {
   "cell_type": "code",
   "execution_count": 8,
   "metadata": {},
   "outputs": [
    {
     "name": "stdout",
     "output_type": "stream",
     "text": [
      "       LYLTY_CARD_NBR               LIFESTAGE PREMIUM_CUSTOMER\n",
      "0                1000   YOUNG SINGLES/COUPLES          Premium\n",
      "1                1002   YOUNG SINGLES/COUPLES       Mainstream\n",
      "2                1003          YOUNG FAMILIES           Budget\n",
      "3                1004   OLDER SINGLES/COUPLES       Mainstream\n",
      "4                1005  MIDAGE SINGLES/COUPLES       Mainstream\n",
      "...               ...                     ...              ...\n",
      "72632         2370651  MIDAGE SINGLES/COUPLES       Mainstream\n",
      "72633         2370701          YOUNG FAMILIES       Mainstream\n",
      "72634         2370751          YOUNG FAMILIES          Premium\n",
      "72635         2370961          OLDER FAMILIES           Budget\n",
      "72636         2373711   YOUNG SINGLES/COUPLES       Mainstream\n",
      "\n",
      "[72637 rows x 3 columns]\n",
      "['YOUNG SINGLES/COUPLES' 'YOUNG FAMILIES' 'OLDER SINGLES/COUPLES'\n",
      " 'MIDAGE SINGLES/COUPLES' 'NEW FAMILIES' 'OLDER FAMILIES' 'RETIREES']\n"
     ]
    }
   ],
   "source": [
    "import pandas as pd\n",
    "\n",
    "clients = pd.read_csv(\"QVI_purchase_behaviour.csv\")\n",
    "\n",
    "print(clients)\n",
    "\n",
    "## Now, lets see the possible values of lifestage and premium_customer\n",
    "\n",
    "lifestage_possible_values=clients.LIFESTAGE.unique()\n",
    "\n",
    "print(lifestage_possible_values)"
   ]
  },
  {
   "cell_type": "code",
   "execution_count": null,
   "metadata": {},
   "outputs": [],
   "source": []
  }
 ],
 "metadata": {
  "kernelspec": {
   "display_name": "Python 3",
   "language": "python",
   "name": "python3"
  },
  "language_info": {
   "codemirror_mode": {
    "name": "ipython",
    "version": 3
   },
   "file_extension": ".py",
   "mimetype": "text/x-python",
   "name": "python",
   "nbconvert_exporter": "python",
   "pygments_lexer": "ipython3",
   "version": "3.7.3"
  }
 },
 "nbformat": 4,
 "nbformat_minor": 4
}
